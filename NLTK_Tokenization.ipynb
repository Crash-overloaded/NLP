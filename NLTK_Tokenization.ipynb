{
  "nbformat": 4,
  "nbformat_minor": 0,
  "metadata": {
    "colab": {
      "name": "NLTK_Tokenization.ipynb",
      "version": "0.3.2",
      "provenance": [],
      "collapsed_sections": [],
      "include_colab_link": true
    },
    "kernelspec": {
      "name": "python3",
      "display_name": "Python 3"
    }
  },
  "cells": [
    {
      "cell_type": "markdown",
      "metadata": {
        "id": "view-in-github",
        "colab_type": "text"
      },
      "source": [
        "<a href=\"https://colab.research.google.com/github/Crash-overloaded/NLP/blob/master/NLTK_Tokenization.ipynb\" target=\"_parent\"><img src=\"https://colab.research.google.com/assets/colab-badge.svg\" alt=\"Open In Colab\"/></a>"
      ]
    },
    {
      "cell_type": "markdown",
      "metadata": {
        "id": "CSEzcY9BPkqg",
        "colab_type": "text"
      },
      "source": [
        "# Tokenization \n",
        " \n",
        "\n",
        "*   \n",
        "*   List item\n",
        "\n"
      ]
    },
    {
      "cell_type": "code",
      "metadata": {
        "id": "BO8UaorCQRf-",
        "colab_type": "code",
        "colab": {}
      },
      "source": [
        "msg='''\n",
        "this is haello devos.\n",
        "hola and grace the power,given of the demons.\n",
        "it sentences the lord of titans to glory the victory in the hole of power.\n",
        "hence the god himself brings the grace.\n",
        "'''"
      ],
      "execution_count": 0,
      "outputs": []
    },
    {
      "cell_type": "code",
      "metadata": {
        "id": "IXcIs8SvXeMc",
        "colab_type": "code",
        "outputId": "8f585af0-d414-4465-c29b-3dda5125b038",
        "colab": {
          "base_uri": "https://localhost:8080/",
          "height": 69
        }
      },
      "source": [
        "from nltk.tokenize import sent_tokenize\n",
        "import nltk\n",
        "from nltk.tokenize import word_tokenize\n",
        "nltk.download('punkt')"
      ],
      "execution_count": 0,
      "outputs": [
        {
          "output_type": "stream",
          "text": [
            "[nltk_data] Downloading package punkt to /root/nltk_data...\n",
            "[nltk_data]   Package punkt is already up-to-date!\n"
          ],
          "name": "stdout"
        },
        {
          "output_type": "execute_result",
          "data": {
            "text/plain": [
              "True"
            ]
          },
          "metadata": {
            "tags": []
          },
          "execution_count": 14
        }
      ]
    },
    {
      "cell_type": "code",
      "metadata": {
        "id": "JpDDQMTpXwQb",
        "colab_type": "code",
        "outputId": "caf43bed-939c-4586-ea68-2a7a9de6f1a2",
        "colab": {
          "base_uri": "https://localhost:8080/",
          "height": 86
        }
      },
      "source": [
        "# Sentence tokenization\n",
        "sent=sent_tokenize(msg)\n",
        "print(len(sent))\n",
        "sent"
      ],
      "execution_count": 0,
      "outputs": [
        {
          "output_type": "execute_result",
          "data": {
            "text/plain": [
              "['\\nthis is haello devos.',\n",
              " 'hola and grace the power,given of the demons.',\n",
              " 'it sentences the lord of titans to glory the victory in the hole of power.',\n",
              " 'hence the god himself brings the grace.']"
            ]
          },
          "metadata": {
            "tags": []
          },
          "execution_count": 15
        }
      ]
    },
    {
      "cell_type": "code",
      "metadata": {
        "id": "LDLp1QM5X3Fd",
        "colab_type": "code",
        "outputId": "0390c6be-d656-4005-d334-bc82b198a240",
        "colab": {
          "base_uri": "https://localhost:8080/",
          "height": 34
        }
      },
      "source": [
        "# Word tokenize\n",
        "word=word_tokenize(msg)\n",
        "print(len(word))\n",
        "#word"
      ],
      "execution_count": 0,
      "outputs": [
        {
          "output_type": "stream",
          "text": [
            "40\n"
          ],
          "name": "stdout"
        }
      ]
    },
    {
      "cell_type": "code",
      "metadata": {
        "id": "Wa18twHAYZmx",
        "colab_type": "code",
        "colab": {}
      },
      "source": [
        "# Removing  stopwords\n",
        "from nltk.corpus import stopwords"
      ],
      "execution_count": 0,
      "outputs": []
    },
    {
      "cell_type": "code",
      "metadata": {
        "id": "9o57SS28YuKE",
        "colab_type": "code",
        "colab": {}
      },
      "source": [
        "# remove stopwords from actual word\n",
        "new_words=[i for i in word if i.lower() not in stopwords.words('english')]"
      ],
      "execution_count": 0,
      "outputs": []
    },
    {
      "cell_type": "code",
      "metadata": {
        "id": "fqD8Hv4WY7vg",
        "colab_type": "code",
        "colab": {
          "base_uri": "https://localhost:8080/",
          "height": 34
        },
        "outputId": "544f90a0-074d-49f9-a1d4-53a2ab7a646a"
      },
      "source": [
        "print(len(new_words))\n",
        "import matplotlib.pyplot as plt"
      ],
      "execution_count": 25,
      "outputs": [
        {
          "output_type": "stream",
          "text": [
            "23\n"
          ],
          "name": "stdout"
        }
      ]
    },
    {
      "cell_type": "code",
      "metadata": {
        "id": "Tsvn4xqFZGaF",
        "colab_type": "code",
        "colab": {
          "base_uri": "https://localhost:8080/",
          "height": 324
        },
        "outputId": "7d0ffccf-6e08-4254-9e44-a602c3813e23"
      },
      "source": [
        "# Plotting actual words\n",
        "nlp=nltk.FreqDist(word)\n",
        "nlp.plot()"
      ],
      "execution_count": 28,
      "outputs": [
        {
          "output_type": "display_data",
          "data": {
            "image/png": "[encoded data removed]",
            "text/plain": [
              "<Figure size 432x288 with 1 Axes>"
            ]
          },
          "metadata": {
            "tags": []
          }
        }
      ]
    },
    {
      "cell_type": "code",
      "metadata": {
        "id": "qjMdoudWZaO7",
        "colab_type": "code",
        "colab": {
          "base_uri": "https://localhost:8080/",
          "height": 324
        },
        "outputId": "f6cee2c8-8395-404c-97da-f7b6c2eb1b86"
      },
      "source": [
        "# Plotting removed words\n",
        "nlp1=nltk.FreqDist(new_words)\n",
        "nlp1.plot()"
      ],
      "execution_count": 29,
      "outputs": [
        {
          "output_type": "display_data",
          "data": {
            "image/png": "[encoded data removed]",
            "text/plain": [
              "<Figure size 432x288 with 1 Axes>"
            ]
          },
          "metadata": {
            "tags": []
          }
        }
      ]
    }
  ]
}